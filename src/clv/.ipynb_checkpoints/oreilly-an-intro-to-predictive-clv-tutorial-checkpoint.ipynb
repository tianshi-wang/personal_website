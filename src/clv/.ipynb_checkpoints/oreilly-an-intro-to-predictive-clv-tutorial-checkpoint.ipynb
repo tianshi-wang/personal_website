{
 "cells": [
  {
   "cell_type": "markdown",
   "metadata": {
    "_datascience": {}
   },
   "source": [
    "# An Intro to Predictive Modeling for Customer Lifetime Value (CLV) -- Tutorial Notebook \n",
    "\n",
    "In this notebook, you will be introduced to the workflow necessary to train a Pareto/NBD model (e.g. Schmittlein et al. 1987) on a transactional dataset. An extension to the Pareto/NBD model includes predictions for the monetary value as well (Gamma-Gamma model -- Fader et al. 2004). \n",
    "\n",
    "The Pareto/NBD model is a good introductory probabilistic model to the non-contractual setting with continous purchase opportunity. It's a simple enough model that is easy to train and generally produces good results when the assumptions behind the model are met. It's a good first shot at CLV modeling ! \n",
    "\n",
    "\n",
    "## A few words on the CDNOW Dataset \n",
    "The CDNOW dataset is a very popular dataset used in academic papers addressing CLV models. CDNOW used to be an online retailer of CDs in the 1990's. The dataset in question includes the transactional data of a cohort of customers who have made their first purchase in the first quarter of 1997. All transactions from these customers between their purchase and June 1998 are included. The transactional data was downsampled to contain transactions of 10% of the customers population (2357 customers). \n",
    "\n",
    "The CDNOW dataset is a good example of a non-contractual setting with a continuous purchasing opportunity. It has been used extensively in the CLV literature.\n",
    "\n",
    "\n",
    "## A Few Warnings/Disclaimers : \n",
    "* In this notebook, I favored code simplicity over performance. Some of you may find that operations done on dataframes and in the STAN code could be optimized for performance. That is certainly the case.\n",
    "* The sample log-likelihood of the Pareto/NBD model can be derived analytically and model parameters can be found via standard optimization routines. In principle, one does not have to use STAN to obtain the parameters of the Pareto/NBD model. The purpose of the STAN code is to allow users to potentially extend the model beyond sample log-likelihoods that cannot be expressed analytically and require MCMC evaluation.\n",
    "* The main focus of this notebook is to predict the purchase count. I left it for you as an exercise to implement the gamma-gamma model for the monetary value component, as described in this paper by Fader et al. (2005). I put the solution at the bottom of the notebook.\n",
    "\n",
    "\n",
    "## Requirements \n",
    "This notebook was tested with \n",
    "* ipython version 3.0.0 \n",
    "* Mac OS X El Captian version 10.11.6\n",
    "\n",
    "We recommend a few Gb of RAM (2-3).\n",
    "\n",
    "Please download and place the file `cdnow_transaction_log.csv` in the same directory as this file. "
   ]
  },
  {
   "cell_type": "markdown",
   "metadata": {
    "_datascience": {}
   },
   "source": [
    "# Training a Pareto/NBD Model on the CDNOW Dataset "
   ]
  },
  {
   "cell_type": "code",
   "execution_count": null,
   "metadata": {
    "_datascience": {},
    "scrolled": false
   },
   "outputs": [],
   "source": [
    "# Doing the necessary installations. You can install these from your notebook or \n",
    "# from a terminal window if you are prompted for a password. \n",
    "\n",
    "# You may have to do `sudo pip ...` for some or all all of the packages below. \n",
    "\n",
    "!pip install numpy==1.12.0 \n",
    "!pip install pandas==0.19.2\n",
    "!pip install scipy==0.18.1\n",
    "!pip install matplotlib==2.0.0\n",
    "!pip install pickle\n",
    "!pip install cython==0.23.5\n",
    "!pip install pystan==2.10.0"
   ]
  },
  {
   "cell_type": "code",
   "execution_count": 1,
   "metadata": {
    "_datascience": {}
   },
   "outputs": [
    {
     "name": "stdout",
     "output_type": "stream",
     "text": [
      "Populating the interactive namespace from numpy and matplotlib\n"
     ]
    },
    {
     "name": "stderr",
     "output_type": "stream",
     "text": [
      "/Users/Vera/anaconda3/envs/insight/lib/python3.6/site-packages/IPython/core/magics/pylab.py:160: UserWarning: pylab import has clobbered these variables: ['datetime']\n",
      "`%matplotlib` prevents importing * from pylab and numpy\n",
      "  \"\\n`%matplotlib` prevents importing * from pylab and numpy\"\n"
     ]
    }
   ],
   "source": [
    "# Doing all the necessary imports here \n",
    "\n",
    "import os \n",
    "import sys \n",
    "import pandas as pd\n",
    "import numpy as np \n",
    "import pystan \n",
    "import matplotlib.pyplot as plt\n",
    "import pickle\n",
    "from datetime import datetime \n",
    "from scipy.stats import gaussian_kde\n",
    "from hashlib import md5\n",
    "%matplotlib inline \n",
    "%pylab inline\n",
    "pylab.rcParams['figure.figsize'] = (10, 10)\n",
    "\n",
    "# if you are having issues with matplotlib on macosx, I recommend taking a look \n",
    "# at this stakoverflow thread : \n",
    "# http://stackoverflow.com/questions/21784641/installation-issue-with-matplotlib-python \n",
    "# 1) cd ~/.matplotlib\n",
    "# 2) vim matplotlibrc\n",
    "# 3) add to the file :  backend: TkAgg\n",
    "# 4) restart the ipython kernel "
   ]
  },
  {
   "cell_type": "markdown",
   "metadata": {
    "_datascience": {}
   },
   "source": [
    "## Import the dataset into a Pandas DataFrame "
   ]
  },
  {
   "cell_type": "code",
   "execution_count": 2,
   "metadata": {
    "_datascience": {}
   },
   "outputs": [],
   "source": [
    "# Load the cdnow dataset into a Pandas DataFrame\n",
    "\n",
    "transactions = pd.read_csv('cdnow_transaction_log.csv')"
   ]
  },
  {
   "cell_type": "code",
   "execution_count": 205,
   "metadata": {
    "_datascience": {}
   },
   "outputs": [
    {
     "data": {
      "text/html": [
       "<div>\n",
       "<table border=\"1\" class=\"dataframe\">\n",
       "  <thead>\n",
       "    <tr style=\"text-align: right;\">\n",
       "      <th></th>\n",
       "      <th>cust</th>\n",
       "      <th>date</th>\n",
       "      <th>sales</th>\n",
       "    </tr>\n",
       "  </thead>\n",
       "  <tbody>\n",
       "    <tr>\n",
       "      <th>0</th>\n",
       "      <td>4</td>\n",
       "      <td>1997-01-18</td>\n",
       "      <td>29.73</td>\n",
       "    </tr>\n",
       "    <tr>\n",
       "      <th>1</th>\n",
       "      <td>4</td>\n",
       "      <td>1997-08-02</td>\n",
       "      <td>14.96</td>\n",
       "    </tr>\n",
       "    <tr>\n",
       "      <th>2</th>\n",
       "      <td>4</td>\n",
       "      <td>1997-12-12</td>\n",
       "      <td>26.48</td>\n",
       "    </tr>\n",
       "    <tr>\n",
       "      <th>3</th>\n",
       "      <td>18</td>\n",
       "      <td>1997-01-04</td>\n",
       "      <td>14.96</td>\n",
       "    </tr>\n",
       "    <tr>\n",
       "      <th>4</th>\n",
       "      <td>21</td>\n",
       "      <td>1997-01-01</td>\n",
       "      <td>63.34</td>\n",
       "    </tr>\n",
       "    <tr>\n",
       "      <th>5</th>\n",
       "      <td>21</td>\n",
       "      <td>1997-01-13</td>\n",
       "      <td>11.77</td>\n",
       "    </tr>\n",
       "    <tr>\n",
       "      <th>6</th>\n",
       "      <td>50</td>\n",
       "      <td>1997-01-01</td>\n",
       "      <td>6.79</td>\n",
       "    </tr>\n",
       "    <tr>\n",
       "      <th>7</th>\n",
       "      <td>60</td>\n",
       "      <td>1997-02-01</td>\n",
       "      <td>21.75</td>\n",
       "    </tr>\n",
       "    <tr>\n",
       "      <th>8</th>\n",
       "      <td>71</td>\n",
       "      <td>1997-01-01</td>\n",
       "      <td>13.97</td>\n",
       "    </tr>\n",
       "    <tr>\n",
       "      <th>9</th>\n",
       "      <td>86</td>\n",
       "      <td>1997-01-01</td>\n",
       "      <td>23.94</td>\n",
       "    </tr>\n",
       "    <tr>\n",
       "      <th>10</th>\n",
       "      <td>111</td>\n",
       "      <td>1997-01-01</td>\n",
       "      <td>35.99</td>\n",
       "    </tr>\n",
       "    <tr>\n",
       "      <th>11</th>\n",
       "      <td>111</td>\n",
       "      <td>1997-01-11</td>\n",
       "      <td>32.99</td>\n",
       "    </tr>\n",
       "    <tr>\n",
       "      <th>12</th>\n",
       "      <td>111</td>\n",
       "      <td>1997-03-15</td>\n",
       "      <td>77.96</td>\n",
       "    </tr>\n",
       "    <tr>\n",
       "      <th>13</th>\n",
       "      <td>111</td>\n",
       "      <td>1997-04-16</td>\n",
       "      <td>59.30</td>\n",
       "    </tr>\n",
       "    <tr>\n",
       "      <th>14</th>\n",
       "      <td>111</td>\n",
       "      <td>1997-04-24</td>\n",
       "      <td>134.98</td>\n",
       "    </tr>\n",
       "  </tbody>\n",
       "</table>\n",
       "</div>"
      ],
      "text/plain": [
       "    cust        date   sales\n",
       "0      4  1997-01-18   29.73\n",
       "1      4  1997-08-02   14.96\n",
       "2      4  1997-12-12   26.48\n",
       "3     18  1997-01-04   14.96\n",
       "4     21  1997-01-01   63.34\n",
       "5     21  1997-01-13   11.77\n",
       "6     50  1997-01-01    6.79\n",
       "7     60  1997-02-01   21.75\n",
       "8     71  1997-01-01   13.97\n",
       "9     86  1997-01-01   23.94\n",
       "10   111  1997-01-01   35.99\n",
       "11   111  1997-01-11   32.99\n",
       "12   111  1997-03-15   77.96\n",
       "13   111  1997-04-16   59.30\n",
       "14   111  1997-04-24  134.98"
      ]
     },
     "execution_count": 205,
     "metadata": {},
     "output_type": "execute_result"
    }
   ],
   "source": [
    "# Lets Explore the dataframe\n",
    "\n",
    "transactions.head(15)"
   ]
  },
  {
   "cell_type": "markdown",
   "metadata": {
    "_datascience": {}
   },
   "source": [
    "The dataframe has the familiar structure of a transactional dataset. There is a column for customer ID, a transaction date and the amount of the transaction. We have everything we need to train the model. "
   ]
  },
  {
   "cell_type": "code",
   "execution_count": 206,
   "metadata": {
    "_datascience": {}
   },
   "outputs": [],
   "source": [
    "# Lets convert the data field into a datetime object : \n",
    "\n",
    "transactions['date'] = pd.to_datetime(transactions['date'])"
   ]
  },
  {
   "cell_type": "markdown",
   "metadata": {
    "_datascience": {}
   },
   "source": [
    "# Exploration of the Transactional Data \n",
    "\n",
    "Here we're going to do some basic exploration of the dataset. For the readers who are already familiar with the CDNOW dataset, go to the \"Compute the RFM Dataframe\" section directly "
   ]
  },
  {
   "cell_type": "code",
   "execution_count": 3,
   "metadata": {
    "_datascience": {}
   },
   "outputs": [
    {
     "data": {
      "text/plain": [
       "(6695, 3)"
      ]
     },
     "execution_count": 3,
     "metadata": {},
     "output_type": "execute_result"
    }
   ],
   "source": [
    "# total number of transactions \n",
    "\n",
    "transactions.shape "
   ]
  },
  {
   "cell_type": "code",
   "execution_count": 5,
   "metadata": {
    "_datascience": {}
   },
   "outputs": [
    {
     "name": "stdout",
     "output_type": "stream",
     "text": [
      "(2357,)\n"
     ]
    }
   ],
   "source": [
    "# Number of customers : \n",
    "\n",
    "print(transactions.groupby(['cust']).size().shape)"
   ]
  },
  {
   "cell_type": "code",
   "execution_count": 6,
   "metadata": {
    "_datascience": {}
   },
   "outputs": [
    {
     "name": "stdout",
     "output_type": "stream",
     "text": [
      "1997-01-01 1998-06-30\n"
     ]
    }
   ],
   "source": [
    "# date range of the dataset : \n",
    "\n",
    "print(transactions['date'].min(), transactions['date'].max())"
   ]
  },
  {
   "cell_type": "markdown",
   "metadata": {
    "_datascience": {}
   },
   "source": [
    "The dataset spans 1.5 year of data. A natural breakdown would be to train on one year of data and validate on the following 6 months. "
   ]
  },
  {
   "cell_type": "code",
   "execution_count": 7,
   "metadata": {
    "_datascience": {},
    "scrolled": false
   },
   "outputs": [
    {
     "data": {
      "text/plain": [
       "<matplotlib.axes._subplots.AxesSubplot at 0x1a0caeb3c8>"
      ]
     },
     "execution_count": 7,
     "metadata": {},
     "output_type": "execute_result"
    },
    {
     "data": {
      "image/png": "[encoded data removed]",
      "text/plain": [
       "<Figure size 432x288 with 1 Axes>"
      ]
     },
     "metadata": {
      "needs_background": "light"
     },
     "output_type": "display_data"
    }
   ],
   "source": [
    "# Time series of the number of transactions (daily) \n",
    "\n",
    "ts_transactions = transactions.groupby(['date']).size()\n",
    "plt.ylabel('Transaction Count') \n",
    "ts_transactions.plot()"
   ]
  },
  {
   "cell_type": "markdown",
   "metadata": {
    "_datascience": {}
   },
   "source": [
    "The chart above looks at the number of transactions per day for the 2357 customers in this dataset. As you probably \n",
    "noticed, there is a sharp break in the counts at the end of `1997-03`. That is because the dataset only includes the customers who made their first purchase in the first quarter of 1997. If the dataset would have also included the customers who made their first purchase post 1997-Q1, the count per day would have likely continued to increase. \n",
    "\n",
    "This is a standard practice when modeling CLV. The cohorts of customers used to train the models are generally based on their time of first purchase. That way, one can study the evolution of the population parameters over time and pinpoint possible problems in the long run. \n",
    "\n",
    "The drawback of using such cohort-based approach is that you have fewer datapoints to constrain the priors parameters. "
   ]
  },
  {
   "cell_type": "code",
   "execution_count": 8,
   "metadata": {
    "_datascience": {}
   },
   "outputs": [
    {
     "data": {
      "text/html": [
       "<div>\n",
       "<style scoped>\n",
       "    .dataframe tbody tr th:only-of-type {\n",
       "        vertical-align: middle;\n",
       "    }\n",
       "\n",
       "    .dataframe tbody tr th {\n",
       "        vertical-align: top;\n",
       "    }\n",
       "\n",
       "    .dataframe thead th {\n",
       "        text-align: right;\n",
       "    }\n",
       "</style>\n",
       "<table border=\"1\" class=\"dataframe\">\n",
       "  <thead>\n",
       "    <tr style=\"text-align: right;\">\n",
       "      <th></th>\n",
       "      <th>cust</th>\n",
       "      <th>date</th>\n",
       "      <th>sales</th>\n",
       "    </tr>\n",
       "  </thead>\n",
       "  <tbody>\n",
       "    <tr>\n",
       "      <th>0</th>\n",
       "      <td>4</td>\n",
       "      <td>1997-01-18</td>\n",
       "      <td>29.73</td>\n",
       "    </tr>\n",
       "    <tr>\n",
       "      <th>1</th>\n",
       "      <td>4</td>\n",
       "      <td>1997-08-02</td>\n",
       "      <td>14.96</td>\n",
       "    </tr>\n",
       "    <tr>\n",
       "      <th>2</th>\n",
       "      <td>4</td>\n",
       "      <td>1997-12-12</td>\n",
       "      <td>26.48</td>\n",
       "    </tr>\n",
       "    <tr>\n",
       "      <th>3</th>\n",
       "      <td>18</td>\n",
       "      <td>1997-01-04</td>\n",
       "      <td>14.96</td>\n",
       "    </tr>\n",
       "    <tr>\n",
       "      <th>4</th>\n",
       "      <td>21</td>\n",
       "      <td>1997-01-01</td>\n",
       "      <td>63.34</td>\n",
       "    </tr>\n",
       "  </tbody>\n",
       "</table>\n",
       "</div>"
      ],
      "text/plain": [
       "   cust        date  sales\n",
       "0     4  1997-01-18  29.73\n",
       "1     4  1997-08-02  14.96\n",
       "2     4  1997-12-12  26.48\n",
       "3    18  1997-01-04  14.96\n",
       "4    21  1997-01-01  63.34"
      ]
     },
     "execution_count": 8,
     "metadata": {},
     "output_type": "execute_result"
    }
   ],
   "source": [
    "transactions.head()"
   ]
  },
  {
   "cell_type": "code",
   "execution_count": 9,
   "metadata": {
    "_datascience": {}
   },
   "outputs": [
    {
     "ename": "TypeError",
     "evalue": "unsupported operand type(s) for -: 'str' and 'str'",
     "output_type": "error",
     "traceback": [
      "\u001b[0;31m---------------------------------------------------------------------------\u001b[0m",
      "\u001b[0;31mTypeError\u001b[0m                                 Traceback (most recent call last)",
      "\u001b[0;32m~/anaconda3/envs/insight/lib/python3.6/site-packages/pandas/core/ops.py\u001b[0m in \u001b[0;36mna_op\u001b[0;34m(x, y)\u001b[0m\n\u001b[1;32m   1011\u001b[0m         \u001b[0;32mtry\u001b[0m\u001b[0;34m:\u001b[0m\u001b[0;34m\u001b[0m\u001b[0m\n\u001b[0;32m-> 1012\u001b[0;31m             \u001b[0mresult\u001b[0m \u001b[0;34m=\u001b[0m \u001b[0mexpressions\u001b[0m\u001b[0;34m.\u001b[0m\u001b[0mevaluate\u001b[0m\u001b[0;34m(\u001b[0m\u001b[0mop\u001b[0m\u001b[0;34m,\u001b[0m \u001b[0mstr_rep\u001b[0m\u001b[0;34m,\u001b[0m \u001b[0mx\u001b[0m\u001b[0;34m,\u001b[0m \u001b[0my\u001b[0m\u001b[0;34m,\u001b[0m \u001b[0;34m**\u001b[0m\u001b[0meval_kwargs\u001b[0m\u001b[0;34m)\u001b[0m\u001b[0;34m\u001b[0m\u001b[0m\n\u001b[0m\u001b[1;32m   1013\u001b[0m         \u001b[0;32mexcept\u001b[0m \u001b[0mTypeError\u001b[0m\u001b[0;34m:\u001b[0m\u001b[0;34m\u001b[0m\u001b[0m\n",
      "\u001b[0;32m~/anaconda3/envs/insight/lib/python3.6/site-packages/pandas/core/computation/expressions.py\u001b[0m in \u001b[0;36mevaluate\u001b[0;34m(op, op_str, a, b, use_numexpr, **eval_kwargs)\u001b[0m\n\u001b[1;32m    204\u001b[0m     \u001b[0;32mif\u001b[0m \u001b[0muse_numexpr\u001b[0m\u001b[0;34m:\u001b[0m\u001b[0;34m\u001b[0m\u001b[0m\n\u001b[0;32m--> 205\u001b[0;31m         \u001b[0;32mreturn\u001b[0m \u001b[0m_evaluate\u001b[0m\u001b[0;34m(\u001b[0m\u001b[0mop\u001b[0m\u001b[0;34m,\u001b[0m \u001b[0mop_str\u001b[0m\u001b[0;34m,\u001b[0m \u001b[0ma\u001b[0m\u001b[0;34m,\u001b[0m \u001b[0mb\u001b[0m\u001b[0;34m,\u001b[0m \u001b[0;34m**\u001b[0m\u001b[0meval_kwargs\u001b[0m\u001b[0;34m)\u001b[0m\u001b[0;34m\u001b[0m\u001b[0m\n\u001b[0m\u001b[1;32m    206\u001b[0m     \u001b[0;32mreturn\u001b[0m \u001b[0m_evaluate_standard\u001b[0m\u001b[0;34m(\u001b[0m\u001b[0mop\u001b[0m\u001b[0;34m,\u001b[0m \u001b[0mop_str\u001b[0m\u001b[0;34m,\u001b[0m \u001b[0ma\u001b[0m\u001b[0;34m,\u001b[0m \u001b[0mb\u001b[0m\u001b[0;34m)\u001b[0m\u001b[0;34m\u001b[0m\u001b[0m\n",
      "\u001b[0;32m~/anaconda3/envs/insight/lib/python3.6/site-packages/pandas/core/computation/expressions.py\u001b[0m in \u001b[0;36m_evaluate_standard\u001b[0;34m(op, op_str, a, b, **eval_kwargs)\u001b[0m\n\u001b[1;32m     64\u001b[0m     \u001b[0;32mwith\u001b[0m \u001b[0mnp\u001b[0m\u001b[0;34m.\u001b[0m\u001b[0merrstate\u001b[0m\u001b[0;34m(\u001b[0m\u001b[0mall\u001b[0m\u001b[0;34m=\u001b[0m\u001b[0;34m'ignore'\u001b[0m\u001b[0;34m)\u001b[0m\u001b[0;34m:\u001b[0m\u001b[0;34m\u001b[0m\u001b[0m\n\u001b[0;32m---> 65\u001b[0;31m         \u001b[0;32mreturn\u001b[0m \u001b[0mop\u001b[0m\u001b[0;34m(\u001b[0m\u001b[0ma\u001b[0m\u001b[0;34m,\u001b[0m \u001b[0mb\u001b[0m\u001b[0;34m)\u001b[0m\u001b[0;34m\u001b[0m\u001b[0m\n\u001b[0m\u001b[1;32m     66\u001b[0m \u001b[0;34m\u001b[0m\u001b[0m\n",
      "\u001b[0;31mTypeError\u001b[0m: unsupported operand type(s) for -: 'str' and 'str'",
      "\nDuring handling of the above exception, another exception occurred:\n",
      "\u001b[0;31mTypeError\u001b[0m                                 Traceback (most recent call last)",
      "\u001b[0;32m~/anaconda3/envs/insight/lib/python3.6/site-packages/pandas/core/ops.py\u001b[0m in \u001b[0;36msafe_na_op\u001b[0;34m(lvalues, rvalues)\u001b[0m\n\u001b[1;32m   1032\u001b[0m             \u001b[0;32mwith\u001b[0m \u001b[0mnp\u001b[0m\u001b[0;34m.\u001b[0m\u001b[0merrstate\u001b[0m\u001b[0;34m(\u001b[0m\u001b[0mall\u001b[0m\u001b[0;34m=\u001b[0m\u001b[0;34m'ignore'\u001b[0m\u001b[0;34m)\u001b[0m\u001b[0;34m:\u001b[0m\u001b[0;34m\u001b[0m\u001b[0m\n\u001b[0;32m-> 1033\u001b[0;31m                 \u001b[0;32mreturn\u001b[0m \u001b[0mna_op\u001b[0m\u001b[0;34m(\u001b[0m\u001b[0mlvalues\u001b[0m\u001b[0;34m,\u001b[0m \u001b[0mrvalues\u001b[0m\u001b[0;34m)\u001b[0m\u001b[0;34m\u001b[0m\u001b[0m\n\u001b[0m\u001b[1;32m   1034\u001b[0m         \u001b[0;32mexcept\u001b[0m \u001b[0mException\u001b[0m\u001b[0;34m:\u001b[0m\u001b[0;34m\u001b[0m\u001b[0m\n",
      "\u001b[0;32m~/anaconda3/envs/insight/lib/python3.6/site-packages/pandas/core/ops.py\u001b[0m in \u001b[0;36mna_op\u001b[0;34m(x, y)\u001b[0m\n\u001b[1;32m   1017\u001b[0m                 \u001b[0mmask\u001b[0m \u001b[0;34m=\u001b[0m \u001b[0mnotna\u001b[0m\u001b[0;34m(\u001b[0m\u001b[0mx\u001b[0m\u001b[0;34m)\u001b[0m \u001b[0;34m&\u001b[0m \u001b[0mnotna\u001b[0m\u001b[0;34m(\u001b[0m\u001b[0my\u001b[0m\u001b[0;34m)\u001b[0m\u001b[0;34m\u001b[0m\u001b[0m\n\u001b[0;32m-> 1018\u001b[0;31m                 \u001b[0mresult\u001b[0m\u001b[0;34m[\u001b[0m\u001b[0mmask\u001b[0m\u001b[0;34m]\u001b[0m \u001b[0;34m=\u001b[0m \u001b[0mop\u001b[0m\u001b[0;34m(\u001b[0m\u001b[0mx\u001b[0m\u001b[0;34m[\u001b[0m\u001b[0mmask\u001b[0m\u001b[0;34m]\u001b[0m\u001b[0;34m,\u001b[0m \u001b[0mcom\u001b[0m\u001b[0;34m.\u001b[0m\u001b[0m_values_from_object\u001b[0m\u001b[0;34m(\u001b[0m\u001b[0my\u001b[0m\u001b[0;34m[\u001b[0m\u001b[0mmask\u001b[0m\u001b[0;34m]\u001b[0m\u001b[0;34m)\u001b[0m\u001b[0;34m)\u001b[0m\u001b[0;34m\u001b[0m\u001b[0m\n\u001b[0m\u001b[1;32m   1019\u001b[0m             \u001b[0;32melse\u001b[0m\u001b[0;34m:\u001b[0m\u001b[0;34m\u001b[0m\u001b[0m\n",
      "\u001b[0;31mTypeError\u001b[0m: unsupported operand type(s) for -: 'str' and 'str'",
      "\nDuring handling of the above exception, another exception occurred:\n",
      "\u001b[0;31mTypeError\u001b[0m                                 Traceback (most recent call last)",
      "\u001b[0;32m<ipython-input-9-71fe4e712080>\u001b[0m in \u001b[0;36m<module>\u001b[0;34m()\u001b[0m\n\u001b[1;32m     15\u001b[0m \u001b[0;34m\u001b[0m\u001b[0m\n\u001b[1;32m     16\u001b[0m \u001b[0;31m# Compute the IPT in days :\u001b[0m\u001b[0;34m\u001b[0m\u001b[0;34m\u001b[0m\u001b[0m\n\u001b[0;32m---> 17\u001b[0;31m \u001b[0mtransactions_tmp\u001b[0m\u001b[0;34m[\u001b[0m\u001b[0;34m'IPT'\u001b[0m\u001b[0;34m]\u001b[0m \u001b[0;34m=\u001b[0m \u001b[0;34m(\u001b[0m\u001b[0mtransactions_tmp\u001b[0m\u001b[0;34m[\u001b[0m\u001b[0;34m'shifted_date'\u001b[0m\u001b[0;34m]\u001b[0m \u001b[0;34m-\u001b[0m \u001b[0mtransactions_tmp\u001b[0m\u001b[0;34m[\u001b[0m\u001b[0;34m'date'\u001b[0m\u001b[0;34m]\u001b[0m\u001b[0;34m)\u001b[0m\u001b[0;34m.\u001b[0m\u001b[0mapply\u001b[0m\u001b[0;34m(\u001b[0m\u001b[0;32mlambda\u001b[0m \u001b[0mx\u001b[0m \u001b[0;34m:\u001b[0m \u001b[0mx\u001b[0m\u001b[0;34m.\u001b[0m\u001b[0mdays\u001b[0m\u001b[0;34m)\u001b[0m\u001b[0;34m\u001b[0m\u001b[0m\n\u001b[0m\u001b[1;32m     18\u001b[0m \u001b[0;34m\u001b[0m\u001b[0m\n\u001b[1;32m     19\u001b[0m \u001b[0mtransactions_tmp\u001b[0m\u001b[0;34m.\u001b[0m\u001b[0mhead\u001b[0m\u001b[0;34m(\u001b[0m\u001b[0;36m5\u001b[0m\u001b[0;34m)\u001b[0m\u001b[0;34m\u001b[0m\u001b[0m\n",
      "\u001b[0;32m~/anaconda3/envs/insight/lib/python3.6/site-packages/pandas/core/ops.py\u001b[0m in \u001b[0;36mwrapper\u001b[0;34m(left, right)\u001b[0m\n\u001b[1;32m   1067\u001b[0m             \u001b[0mrvalues\u001b[0m \u001b[0;34m=\u001b[0m \u001b[0mrvalues\u001b[0m\u001b[0;34m.\u001b[0m\u001b[0mvalues\u001b[0m\u001b[0;34m\u001b[0m\u001b[0m\n\u001b[1;32m   1068\u001b[0m \u001b[0;34m\u001b[0m\u001b[0m\n\u001b[0;32m-> 1069\u001b[0;31m         \u001b[0mresult\u001b[0m \u001b[0;34m=\u001b[0m \u001b[0msafe_na_op\u001b[0m\u001b[0;34m(\u001b[0m\u001b[0mlvalues\u001b[0m\u001b[0;34m,\u001b[0m \u001b[0mrvalues\u001b[0m\u001b[0;34m)\u001b[0m\u001b[0;34m\u001b[0m\u001b[0m\n\u001b[0m\u001b[1;32m   1070\u001b[0m         return construct_result(left, result,\n\u001b[1;32m   1071\u001b[0m                                 index=left.index, name=res_name, dtype=None)\n",
      "\u001b[0;32m~/anaconda3/envs/insight/lib/python3.6/site-packages/pandas/core/ops.py\u001b[0m in \u001b[0;36msafe_na_op\u001b[0;34m(lvalues, rvalues)\u001b[0m\n\u001b[1;32m   1035\u001b[0m             \u001b[0;32mif\u001b[0m \u001b[0mis_object_dtype\u001b[0m\u001b[0;34m(\u001b[0m\u001b[0mlvalues\u001b[0m\u001b[0;34m)\u001b[0m\u001b[0;34m:\u001b[0m\u001b[0;34m\u001b[0m\u001b[0m\n\u001b[1;32m   1036\u001b[0m                 return libalgos.arrmap_object(lvalues,\n\u001b[0;32m-> 1037\u001b[0;31m                                               lambda x: op(x, rvalues))\n\u001b[0m\u001b[1;32m   1038\u001b[0m             \u001b[0;32mraise\u001b[0m\u001b[0;34m\u001b[0m\u001b[0m\n\u001b[1;32m   1039\u001b[0m \u001b[0;34m\u001b[0m\u001b[0m\n",
      "\u001b[0;32mpandas/_libs/algos_common_helper.pxi\u001b[0m in \u001b[0;36mpandas._libs.algos.arrmap_object\u001b[0;34m()\u001b[0m\n",
      "\u001b[0;32m~/anaconda3/envs/insight/lib/python3.6/site-packages/pandas/core/ops.py\u001b[0m in \u001b[0;36m<lambda>\u001b[0;34m(x)\u001b[0m\n\u001b[1;32m   1035\u001b[0m             \u001b[0;32mif\u001b[0m \u001b[0mis_object_dtype\u001b[0m\u001b[0;34m(\u001b[0m\u001b[0mlvalues\u001b[0m\u001b[0;34m)\u001b[0m\u001b[0;34m:\u001b[0m\u001b[0;34m\u001b[0m\u001b[0m\n\u001b[1;32m   1036\u001b[0m                 return libalgos.arrmap_object(lvalues,\n\u001b[0;32m-> 1037\u001b[0;31m                                               lambda x: op(x, rvalues))\n\u001b[0m\u001b[1;32m   1038\u001b[0m             \u001b[0;32mraise\u001b[0m\u001b[0;34m\u001b[0m\u001b[0m\n\u001b[1;32m   1039\u001b[0m \u001b[0;34m\u001b[0m\u001b[0m\n",
      "\u001b[0;31mTypeError\u001b[0m: unsupported operand type(s) for -: 'str' and 'str'"
     ]
    }
   ],
   "source": [
    "# Let's take a look at the typical inter-purchase time and IPT distribution \n",
    "\n",
    "def shift_date(x): \n",
    "    x['shifted_date'] = x['date'].shift(-1) \n",
    "    return x\n",
    "\n",
    "# We'll apply a shift of -1 between the 'date' column and a newly shifted date column shift_date. \n",
    "# That way, we'll be able to subtract date from shifted_date at the customer level and compute \n",
    "# the inter purchase time (IPT) directly : \n",
    "transactions_tmp = transactions.sort_values(['date']).\\\n",
    "                        groupby(['cust'], as_index=True).apply(shift_date)    \n",
    "\n",
    "# Let's re-order by customer and date : \n",
    "transactions_tmp.sort_values(['cust','date'], ascending=True, inplace=True)\n",
    "transactions_tmp.dropna(inplace=True)\n",
    "\n",
    "# Compute the IPT in days : \n",
    "transactions_tmp['IPT'] = (transactions_tmp['shifted_date'] - transactions_tmp['date']).apply(lambda x : x.days)\n",
    "\n",
    "transactions_tmp.head(5) "
   ]
  },
  {
   "cell_type": "code",
   "execution_count": 213,
   "metadata": {
    "_datascience": {}
   },
   "outputs": [
    {
     "name": "stdout",
     "output_type": "stream",
     "text": [
      "70.8729829414\n"
     ]
    }
   ],
   "source": [
    "# let's print the mean IPT. Our training period of 365 days is long enough. \n",
    "\n",
    "print(transactions_tmp['IPT'].mean())"
   ]
  },
  {
   "cell_type": "code",
   "execution_count": 214,
   "metadata": {
    "_datascience": {}
   },
   "outputs": [
    {
     "data": {
      "text/plain": [
       "(0, 270)"
      ]
     },
     "execution_count": 214,
     "metadata": {},
     "output_type": "execute_result"
    },
    {
     "data": {
      "image/png": "[encoded data removed]",
      "text/plain": [
       "<matplotlib.figure.Figure at 0x7f65b87a1fd0>"
      ]
     },
     "metadata": {},
     "output_type": "display_data"
    }
   ],
   "source": [
    "# Distribution of IPT : \n",
    "\n",
    "transactions_tmp['IPT'].hist(bins=40)\n",
    "plt.yscale('log')\n",
    "plt.xlabel('IPT (days)') \n",
    "plt.ylabel('Number of Purchases') \n",
    "\n",
    "# 275 (365-90) days to avoid right censorship issues. \n",
    "plt.xlim([0,270])"
   ]
  },
  {
   "cell_type": "code",
   "execution_count": 215,
   "metadata": {
    "_datascience": {}
   },
   "outputs": [
    {
     "name": "stdout",
     "output_type": "stream",
     "text": [
      "(1, 44)\n"
     ]
    },
    {
     "data": {
      "text/plain": [
       "<matplotlib.text.Text at 0x7f65b8f24e10>"
      ]
     },
     "execution_count": 215,
     "metadata": {},
     "output_type": "execute_result"
    },
    {
     "data": {
      "image/png": "[encoded data removed]",
      "text/plain": [
       "<matplotlib.figure.Figure at 0x7f65b96be510>"
      ]
     },
     "metadata": {},
     "output_type": "display_data"
    }
   ],
   "source": [
    "# Let's look at the distribution of the number of purchases per customer : \n",
    "\n",
    "n_purchases = transactions.groupby(['cust']).size()\n",
    "print(n_purchases.min(axis=0), n_purchases.max(axis=0))\n",
    "n_purchases.hist(bins=(n_purchases.max(axis=0) - n_purchases.min(axis=0)) + 1)\n",
    "plt.xlabel('Number of Purchases') \n",
    "plt.ylabel('Number of Customers') "
   ]
  },
  {
   "cell_type": "markdown",
   "metadata": {
    "_datascience": {}
   },
   "source": [
    "As we see in the figure above, more than 50% (1200/2357) of the customers made only a single purchase in the 1.5 year period covered by the dataset. "
   ]
  },
  {
   "cell_type": "markdown",
   "metadata": {
    "_datascience": {}
   },
   "source": [
    "# Compute the RFM Dataframe \n",
    "\n",
    "In this section, we will generate the recency-frequency-monetary value (RFM) object. \n",
    "\n",
    "* Recency : time between first and last transaction\n",
    "* Frequency : here frequency really refers to repeat frequency, i.e. the number of purchases beyond the initial one. i.e. repeat frequency = purchase counts - 1 )\n",
    "* monetary value : mean of all the transactions in the training periods \n",
    "* T : time between first purchase and end of calibration period \n",
    "\n",
    "RFM data structures are used to constrain the Pareto/NBD and BG/NBD models. Extensions to the RFM structure are needed for the Pareto/GGG model (Platzer & Reutterer 2016) or to include the clumpiness estimate (Zhang et al. 2015), for example. "
   ]
  },
  {
   "cell_type": "code",
   "execution_count": 216,
   "metadata": {
    "_datascience": {}
   },
   "outputs": [],
   "source": [
    "# Select calibration and holdout periods \n",
    "# Lets select a training period of one year and and a holdout period of 6 months. \n",
    "\n",
    "end_calibration = pd.to_datetime('1997-12-31')\n",
    "train = transactions[transactions.date <= end_calibration]\n",
    "holdout = transactions[transactions.date > end_calibration]"
   ]
  },
  {
   "cell_type": "markdown",
   "metadata": {
    "_datascience": {}
   },
   "source": [
    "## Bin transactions by day"
   ]
  },
  {
   "cell_type": "code",
   "execution_count": 217,
   "metadata": {
    "_datascience": {}
   },
   "outputs": [],
   "source": [
    "# Sum the monetary value by customer and by date : \n",
    "\n",
    "train2 = train.sort_values(['date'], ascending=True).groupby(['cust', 'date'], \n",
    "                                                             as_index=False)['sales'].sum()"
   ]
  },
  {
   "cell_type": "code",
   "execution_count": 218,
   "metadata": {
    "_datascience": {}
   },
   "outputs": [
    {
     "data": {
      "text/html": [
       "<div>\n",
       "<table border=\"1\" class=\"dataframe\">\n",
       "  <thead>\n",
       "    <tr style=\"text-align: right;\">\n",
       "      <th></th>\n",
       "      <th>cust</th>\n",
       "      <th>date</th>\n",
       "      <th>sales</th>\n",
       "    </tr>\n",
       "  </thead>\n",
       "  <tbody>\n",
       "    <tr>\n",
       "      <th>0</th>\n",
       "      <td>4</td>\n",
       "      <td>1997-01-18</td>\n",
       "      <td>29.73</td>\n",
       "    </tr>\n",
       "    <tr>\n",
       "      <th>1</th>\n",
       "      <td>4</td>\n",
       "      <td>1997-08-02</td>\n",
       "      <td>14.96</td>\n",
       "    </tr>\n",
       "    <tr>\n",
       "      <th>2</th>\n",
       "      <td>4</td>\n",
       "      <td>1997-12-12</td>\n",
       "      <td>26.48</td>\n",
       "    </tr>\n",
       "    <tr>\n",
       "      <th>3</th>\n",
       "      <td>18</td>\n",
       "      <td>1997-01-04</td>\n",
       "      <td>14.96</td>\n",
       "    </tr>\n",
       "    <tr>\n",
       "      <th>4</th>\n",
       "      <td>21</td>\n",
       "      <td>1997-01-01</td>\n",
       "      <td>63.34</td>\n",
       "    </tr>\n",
       "  </tbody>\n",
       "</table>\n",
       "</div>"
      ],
      "text/plain": [
       "   cust       date  sales\n",
       "0     4 1997-01-18  29.73\n",
       "1     4 1997-08-02  14.96\n",
       "2     4 1997-12-12  26.48\n",
       "3    18 1997-01-04  14.96\n",
       "4    21 1997-01-01  63.34"
      ]
     },
     "execution_count": 218,
     "metadata": {},
     "output_type": "execute_result"
    }
   ],
   "source": [
    "# Let's take a look at the data : \n",
    "\n",
    "train2.head()"
   ]
  },
  {
   "cell_type": "code",
   "execution_count": 219,
   "metadata": {
    "_datascience": {},
    "collapsed": true
   },
   "outputs": [],
   "source": [
    "# let's define a single function that can be applied at the customer level and \n",
    "# compute all the relevant RFM quantities at once : \n",
    "\n",
    "def compute_rfm(x, end_calibration): \n",
    "    x['recency'] = (x['date'].max() - x['date'].min()).days\n",
    "    x['frequency'] = x['date'].count()-1\n",
    "    x['T'] = (end_calibration - x['date'].min()).days\n",
    "    x['monetary_value'] = x['sales'].mean()\n",
    "    return x"
   ]
  },
  {
   "cell_type": "code",
   "execution_count": 220,
   "metadata": {
    "_datascience": {}
   },
   "outputs": [],
   "source": [
    "# use the function compute_rfm to compute recency, frequency, T and monetary value \n",
    "# for each group (each customer). \n",
    "\n",
    "train3 = train2.groupby(['cust']).apply(lambda x: compute_rfm(x, end_calibration))"
   ]
  },
  {
   "cell_type": "code",
   "execution_count": 221,
   "metadata": {
    "_datascience": {}
   },
   "outputs": [
    {
     "data": {
      "text/html": [
       "<div>\n",
       "<table border=\"1\" class=\"dataframe\">\n",
       "  <thead>\n",
       "    <tr style=\"text-align: right;\">\n",
       "      <th></th>\n",
       "      <th>cust</th>\n",
       "      <th>date</th>\n",
       "      <th>sales</th>\n",
       "      <th>recency</th>\n",
       "      <th>frequency</th>\n",
       "      <th>T</th>\n",
       "      <th>monetary_value</th>\n",
       "    </tr>\n",
       "  </thead>\n",
       "  <tbody>\n",
       "    <tr>\n",
       "      <th>0</th>\n",
       "      <td>4</td>\n",
       "      <td>1997-01-18</td>\n",
       "      <td>29.73</td>\n",
       "      <td>328</td>\n",
       "      <td>2</td>\n",
       "      <td>347</td>\n",
       "      <td>23.723333</td>\n",
       "    </tr>\n",
       "    <tr>\n",
       "      <th>1</th>\n",
       "      <td>4</td>\n",
       "      <td>1997-08-02</td>\n",
       "      <td>14.96</td>\n",
       "      <td>328</td>\n",
       "      <td>2</td>\n",
       "      <td>347</td>\n",
       "      <td>23.723333</td>\n",
       "    </tr>\n",
       "    <tr>\n",
       "      <th>2</th>\n",
       "      <td>4</td>\n",
       "      <td>1997-12-12</td>\n",
       "      <td>26.48</td>\n",
       "      <td>328</td>\n",
       "      <td>2</td>\n",
       "      <td>347</td>\n",
       "      <td>23.723333</td>\n",
       "    </tr>\n",
       "    <tr>\n",
       "      <th>3</th>\n",
       "      <td>18</td>\n",
       "      <td>1997-01-04</td>\n",
       "      <td>14.96</td>\n",
       "      <td>0</td>\n",
       "      <td>0</td>\n",
       "      <td>361</td>\n",
       "      <td>14.960000</td>\n",
       "    </tr>\n",
       "    <tr>\n",
       "      <th>4</th>\n",
       "      <td>21</td>\n",
       "      <td>1997-01-01</td>\n",
       "      <td>63.34</td>\n",
       "      <td>12</td>\n",
       "      <td>1</td>\n",
       "      <td>364</td>\n",
       "      <td>37.555000</td>\n",
       "    </tr>\n",
       "  </tbody>\n",
       "</table>\n",
       "</div>"
      ],
      "text/plain": [
       "   cust       date  sales  recency  frequency    T  monetary_value\n",
       "0     4 1997-01-18  29.73      328          2  347       23.723333\n",
       "1     4 1997-08-02  14.96      328          2  347       23.723333\n",
       "2     4 1997-12-12  26.48      328          2  347       23.723333\n",
       "3    18 1997-01-04  14.96        0          0  361       14.960000\n",
       "4    21 1997-01-01  63.34       12          1  364       37.555000"
      ]
     },
     "execution_count": 221,
     "metadata": {},
     "output_type": "execute_result"
    }
   ],
   "source": [
    "# Let's look at the data : \n",
    "\n",
    "train3.head()"
   ]
  },
  {
   "cell_type": "code",
   "execution_count": 222,
   "metadata": {
    "_datascience": {}
   },
   "outputs": [],
   "source": [
    "# lets take the first row for each customer and only the relevant columns of interest. \n",
    "\n",
    "rfm = train3[['cust', 'recency', 'frequency', 'T', 'monetary_value']].groupby(['cust']).first()"
   ]
  },
  {
   "cell_type": "code",
   "execution_count": 223,
   "metadata": {
    "_datascience": {}
   },
   "outputs": [
    {
     "data": {
      "text/html": [
       "<div>\n",
       "<table border=\"1\" class=\"dataframe\">\n",
       "  <thead>\n",
       "    <tr style=\"text-align: right;\">\n",
       "      <th></th>\n",
       "      <th>recency</th>\n",
       "      <th>frequency</th>\n",
       "      <th>T</th>\n",
       "      <th>monetary_value</th>\n",
       "    </tr>\n",
       "    <tr>\n",
       "      <th>cust</th>\n",
       "      <th></th>\n",
       "      <th></th>\n",
       "      <th></th>\n",
       "      <th></th>\n",
       "    </tr>\n",
       "  </thead>\n",
       "  <tbody>\n",
       "    <tr>\n",
       "      <th>4</th>\n",
       "      <td>328</td>\n",
       "      <td>2</td>\n",
       "      <td>347</td>\n",
       "      <td>23.723333</td>\n",
       "    </tr>\n",
       "    <tr>\n",
       "      <th>18</th>\n",
       "      <td>0</td>\n",
       "      <td>0</td>\n",
       "      <td>361</td>\n",
       "      <td>14.960000</td>\n",
       "    </tr>\n",
       "    <tr>\n",
       "      <th>21</th>\n",
       "      <td>12</td>\n",
       "      <td>1</td>\n",
       "      <td>364</td>\n",
       "      <td>37.555000</td>\n",
       "    </tr>\n",
       "    <tr>\n",
       "      <th>50</th>\n",
       "      <td>0</td>\n",
       "      <td>0</td>\n",
       "      <td>364</td>\n",
       "      <td>6.790000</td>\n",
       "    </tr>\n",
       "    <tr>\n",
       "      <th>60</th>\n",
       "      <td>0</td>\n",
       "      <td>0</td>\n",
       "      <td>333</td>\n",
       "      <td>21.750000</td>\n",
       "    </tr>\n",
       "  </tbody>\n",
       "</table>\n",
       "</div>"
      ],
      "text/plain": [
       "      recency  frequency    T  monetary_value\n",
       "cust                                         \n",
       "4         328          2  347       23.723333\n",
       "18          0          0  361       14.960000\n",
       "21         12          1  364       37.555000\n",
       "50          0          0  364        6.790000\n",
       "60          0          0  333       21.750000"
      ]
     },
     "execution_count": 223,
     "metadata": {},
     "output_type": "execute_result"
    }
   ],
   "source": [
    "# Let's look at the results : \n",
    "\n",
    "rfm.head()"
   ]
  },
  {
   "cell_type": "code",
   "execution_count": 224,
   "metadata": {
    "_datascience": {}
   },
   "outputs": [
    {
     "data": {
      "text/html": [
       "<div>\n",
       "<table border=\"1\" class=\"dataframe\">\n",
       "  <thead>\n",
       "    <tr style=\"text-align: right;\">\n",
       "      <th></th>\n",
       "      <th>recency</th>\n",
       "      <th>frequency</th>\n",
       "      <th>T</th>\n",
       "      <th>monetary_value</th>\n",
       "    </tr>\n",
       "  </thead>\n",
       "  <tbody>\n",
       "    <tr>\n",
       "      <th>count</th>\n",
       "      <td>2357.000000</td>\n",
       "      <td>2357.000000</td>\n",
       "      <td>2357.000000</td>\n",
       "      <td>2357.000000</td>\n",
       "    </tr>\n",
       "    <tr>\n",
       "      <th>mean</th>\n",
       "      <td>75.550276</td>\n",
       "      <td>1.352143</td>\n",
       "      <td>321.003818</td>\n",
       "      <td>32.836897</td>\n",
       "    </tr>\n",
       "    <tr>\n",
       "      <th>std</th>\n",
       "      <td>110.231161</td>\n",
       "      <td>2.792310</td>\n",
       "      <td>23.277967</td>\n",
       "      <td>31.103740</td>\n",
       "    </tr>\n",
       "    <tr>\n",
       "      <th>min</th>\n",
       "      <td>0.000000</td>\n",
       "      <td>0.000000</td>\n",
       "      <td>281.000000</td>\n",
       "      <td>0.000000</td>\n",
       "    </tr>\n",
       "    <tr>\n",
       "      <th>25%</th>\n",
       "      <td>0.000000</td>\n",
       "      <td>0.000000</td>\n",
       "      <td>301.000000</td>\n",
       "      <td>14.990000</td>\n",
       "    </tr>\n",
       "    <tr>\n",
       "      <th>50%</th>\n",
       "      <td>0.000000</td>\n",
       "      <td>0.000000</td>\n",
       "      <td>321.000000</td>\n",
       "      <td>24.883333</td>\n",
       "    </tr>\n",
       "    <tr>\n",
       "      <th>75%</th>\n",
       "      <td>150.000000</td>\n",
       "      <td>2.000000</td>\n",
       "      <td>340.000000</td>\n",
       "      <td>39.245000</td>\n",
       "    </tr>\n",
       "    <tr>\n",
       "      <th>max</th>\n",
       "      <td>362.000000</td>\n",
       "      <td>37.000000</td>\n",
       "      <td>364.000000</td>\n",
       "      <td>506.970000</td>\n",
       "    </tr>\n",
       "  </tbody>\n",
       "</table>\n",
       "</div>"
      ],
      "text/plain": [
       "           recency    frequency            T  monetary_value\n",
       "count  2357.000000  2357.000000  2357.000000     2357.000000\n",
       "mean     75.550276     1.352143   321.003818       32.836897\n",
       "std     110.231161     2.792310    23.277967       31.103740\n",
       "min       0.000000     0.000000   281.000000        0.000000\n",
       "25%       0.000000     0.000000   301.000000       14.990000\n",
       "50%       0.000000     0.000000   321.000000       24.883333\n",
       "75%     150.000000     2.000000   340.000000       39.245000\n",
       "max     362.000000    37.000000   364.000000      506.970000"
      ]
     },
     "execution_count": 224,
     "metadata": {},
     "output_type": "execute_result"
    }
   ],
   "source": [
    "# Let's look at the range of values for each column. Make sure the results make sense \n",
    "# before going any further with the analysis. No NaNs, \n",
    "# no negative values, no recency > 364 days, etc.  \n",
    "\n",
    "rfm.describe()"
   ]
  },
  {
   "cell_type": "markdown",
   "metadata": {
    "_datascience": {}
   },
   "source": [
    "The results look good so far! You could also take a look at the distribution of recency, frequency, T, and monetary value. before going any further. \n"
   ]
  },
  {
   "cell_type": "markdown",
   "metadata": {
    "_datascience": {}
   },
   "source": [
    "# Train a simple Pareto/NBD Model over the training/holdout period. \n",
    "\n",
    "Now that we have an RFM vector for each customer and for the training period (`rfm` dataframe above), let's train the Pareto/NBD object). For this step, we're going to use the python API to the STAN library. <a href=\"mc-stan.org\">STAN</a> is a probabilistic langauge and has been used in many fields, including physics, engineering, and business. STAN provides APIs for several languages including R, Python, Matlab, and Julia. \n",
    "\n",
    "The script below is divided into 4 parts : \n",
    "\n",
    "* data (the raw data) \n",
    "* parameters (the model parameters that have to be evaluated) \n",
    "* model (code of the model) \n",
    "\n",
    "The individual-level likelihood function of the Pareto/NBD model can be easily derived (e.g. Schmittlein et al. 1987; Fader et al. 2005) and will be used in the STAN code below : \n",
    "$$ L(\\lambda, \\mu | x, t_x, T) = \\frac{\\lambda^x \\mu}{\\lambda+\\mu}e^{-(\\lambda+\\mu)t_x}+\\frac{\\lambda^{x+1}}{\\lambda+\\mu}e^{-(\\lambda+\\mu)T} $$\n",
    "\n",
    "As discussed during the webcast, $\\lambda$ is the count rate that goes in the Poisson distribution and $\\mu$ is the slope of the lifetime exponential distribution. The typical lifetime corresponds to $\\sim 1/\\mu$. \n",
    "\n",
    "The priors for $\\lambda$ and $\\mu$ are gamma distributed : \n",
    "$$g(\\lambda|r,\\alpha) = \\frac{\\alpha^r}{\\Gamma(r)}\\lambda^{r-1}e^{-\\lambda \\alpha} $$\n",
    "and \n",
    "$$g(\\mu|s,\\beta) = \\frac{\\beta^s}{\\Gamma(s)}\\mu^{s-1}e^{-\\mu \\beta} \\; . $$ \n",
    "\n",
    "For each of the four model parameters $(r,\\alpha,s,\\beta)$, I assigned hyperpriors that are normally distributed. "
   ]
  },
  {
   "cell_type": "code",
   "execution_count": 25,
   "metadata": {
    "_datascience": {}
   },
   "outputs": [],
   "source": [
    "# Training the STAN model over several 1000's iterations can take a long time. \n",
    "# I recommend running the STAN models for at least 5000 iterations with a warmup \n",
    "# of a few 100. To get a thorough understanding of the code below and the fit results, \n",
    "# I highly recommend reading the STAN documentation. \n",
    "\n",
    "# Although running a STAN model is not necessary to solve a Pareto/NBD model, \n",
    "# it allows you to extend/change the model with ease. \n",
    "\n",
    "paretonbd_model=\"\"\"\n",
    "data{\n",
    "int<lower=0> n_cust; //number of customers \n",
    "vector<lower=0>[n_cust] x; \n",
    "vector<lower=0>[n_cust] tx; \n",
    "vector<lower=0>[n_cust] T; \n",
    "}\n",
    "\n",
    "parameters{\n",
    "// vectors of lambda and mu for each customer. \n",
    "// Here I apply limits between 0 and 1 for each \n",
    "// parameter. A value of lambda or mu > 1.0 is unphysical \n",
    "// since you don't enough time resolution to go less than \n",
    "// 1 time unit. \n",
    "vector <lower=0,upper=1.0>[n_cust] lambda; \n",
    "vector <lower=0,upper=1.0>[n_cust] mu;\n",
    "\n",
    "// parameters of the prior distributions : r, alpha, s, beta. \n",
    "// for both lambda and mu\n",
    "real <lower=0>r;\n",
    "real <lower=0>alpha;\n",
    "real <lower=0>s;\n",
    "real <lower=0>beta;\n",
    "}\n",
    "\n",
    "model{\n",
    "\n",
    "// temporary variables : \n",
    "vector[n_cust] like1; // likelihood\n",
    "vector[n_cust] like2; // likelihood \n",
    "\n",
    "// Establishing hyperpriors on parameters r, alpha, s, and beta. \n",
    "r ~ normal(0.5,0.1);\n",
    "alpha ~ normal(10,1);\n",
    "s ~ normal(0.5,0.1);\n",
    "beta ~ normal(10,1);\n",
    "\n",
    "// Establishing the Prior Distributions for lambda and mu : \n",
    "lambda ~ gamma(r,alpha); \n",
    "mu ~ gamma(s,beta);\n",
    "\n",
    "// The likelihood of the Pareto/NBD model : \n",
    "like1 = x .* log(lambda) + log(mu) - log(mu+lambda) - tx .* (mu+lambda);\n",
    "like2 = (x + 1) .* log(lambda) - log(mu+lambda) - T .* (lambda+mu);\n",
    "\n",
    "// Here we increment the log probability density (target) accordingly \n",
    "target+= log(exp(like1)+exp(like2));\n",
    "}\n",
    "\"\"\"\n",
    "\n",
    "# here's the data we will provide to STAN : \n",
    "data={'n_cust':len(rfm),\n",
    "    'x':rfm['frequency'].values,\n",
    "    'tx':rfm['recency'].values,\n",
    "    'T':rfm['T'].values\n",
    "}"
   ]
  },
  {
   "cell_type": "code",
   "execution_count": 26,
   "metadata": {
    "_datascience": {}
   },
   "outputs": [
    {
     "name": "stdout",
     "output_type": "stream",
     "text": [
      "Using cached StanModel\n"
     ]
    }
   ],
   "source": [
    "# STAN models can take a while to fit. Let's pickle the model to disk as a precautionary measure. \n",
    "# We can always read the model from disk later on. Note that this file is sizable > 100 MB. \n",
    "\n",
    "# Utility function to pull a stan model that has been pickled. \n",
    "# from pystan docs : https://pystan.readthedocs.io/en/latest/avoiding_recompilation.html\n",
    "def stan_cache(model_code, model_name=None, **kwargs):\n",
    "    \"\"\"Use just as you would `stan`\"\"\"\n",
    "    code_hash = md5(model_code.encode('ascii')).hexdigest()\n",
    "    if model_name is None:\n",
    "        cache_fn = 'cached-model-{}.pkl'.format(code_hash)\n",
    "    else:\n",
    "        cache_fn = 'cached-{}-{}.pkl'.format(model_name, code_hash)\n",
    "    try:\n",
    "        sm = pickle.load(open(cache_fn, 'rb'))\n",
    "    except:\n",
    "        sm = pystan.StanModel(model_code=model_code)\n",
    "        with open(cache_fn, 'wb') as f:\n",
    "            pickle.dump(sm, f)\n",
    "    else:\n",
    "        print(\"Using cached StanModel\")\n",
    "    return sm.sampling(**kwargs)\n",
    "\n",
    "iterations = 1000\n",
    "warmup = 500\n",
    "\n",
    "# I recommend training for several 1000's iterations. Here we run the STAN model : \n",
    "pareto_nbd_fit = stan_cache(paretonbd_model, model_name='paretonbd_model', \\\n",
    "                                  data=data, chains=1, iter=iterations, warmup=warmup)"
   ]
  },
  {
   "cell_type": "code",
   "execution_count": 225,
   "metadata": {
    "_datascience": {},
    "collapsed": true
   },
   "outputs": [],
   "source": [
    "# Here we'll extract the traces for the lambda and mu parameters. We get the posterior \n",
    "# distribution of these parameters for \"free\" when using STAN. \n",
    "\n",
    "trace = pareto_nbd_fit.extract()\n",
    "lambdas = trace['lambda']\n",
    "mus = trace['mu']"
   ]
  },
  {
   "cell_type": "markdown",
   "metadata": {
    "_datascience": {}
   },
   "source": [
    "# Comparisons Between Model Predictions and Training Set Observations \n",
    "\n",
    "Here we will perform a series of comparisons between the model predictions in the training period vs the observations over the same period of time. \n",
    "\n",
    "The fit above gives us all four model parameters $(r,\\alpha,s,\\beta)$. Furthermore, the MCMC chain also gives us the values of $\\lambda,\\mu$ for each customer. Given $(\\lambda,\\mu)$ it becomes relatively easy to derive the expected number of purchases made by each customer in the period $(0,t]$ : \n",
    "$$ E[X(t)~|~\\lambda, \\mu] = \\frac{\\lambda}{\\mu}-\\frac{\\lambda}{\\mu}e^{-\\mu t } $$\n",
    "\n",
    "In the expression above, X(t) represents the number of (repeat) purchases between 0 and $t$. \n",
    "\n",
    "Parameters $\\lambda$ and $\\mu$ and latent parameters. They are not observed. However, the MCMC sampling technique allows us to extract the joint posterior distribution of $\\lambda$ and $\\mu$ at the customer level. This is very handy. Indeed, one simply has to evaluate the expression above for all the pairs of $\\lambda$ and $\\mu$ included in the MCMC trace. This is a fairly straightforward process. We show how one can do this in the cells below.  "
   ]
  },
  {
   "cell_type": "markdown",
   "metadata": {
    "_datascience": {}
   },
   "source": [
    "## Scatter Plot of the Purchase Counts : Observations vs Predictions "
   ]
  },
  {
   "cell_type": "code",
   "execution_count": 226,
   "metadata": {
    "_datascience": {}
   },
   "outputs": [],
   "source": [
    "# Here I take the expectation (mean) value of E[X(t) | lambda, mu] over the trace values of lambda and mu : \n",
    "\n",
    "dt_train = 365.0 # 12 months \n",
    "training_predictions = (lambdas/mus-lambdas/mus*np.exp(-mus*dt_train)).mean(axis=0)\n",
    "rfm['model_train_count'] = training_predictions "
   ]
  },
  {
   "cell_type": "code",
   "execution_count": 227,
   "metadata": {
    "_datascience": {}
   },
   "outputs": [
    {
     "name": "stdout",
     "output_type": "stream",
     "text": [
      "('RMSE =', 0.53139927486826855)\n"
     ]
    }
   ],
   "source": [
    "rmse_train_count = (rfm['model_train_count'] - rfm['frequency']).apply(lambda x : x*x)\n",
    "rmse_train_count = np.sqrt(rmse_train_count.sum()/len(rfm))\n",
    "print('RMSE =', rmse_train_count)"
   ]
  },
  {
   "cell_type": "code",
   "execution_count": 228,
   "metadata": {
    "_datascience": {},
    "collapsed": true
   },
   "outputs": [],
   "source": [
    "def plot_scatter(dataframe, colx, coly, xlabel='Observed Counts', \n",
    "                 ylabel='Predicted Counts', \n",
    "                 xlim=[0,15], ylim=[0,15], density=True): \n",
    "    \"\"\"This function will plot a scatter plot of colx on the x-axis vs coly on the y-axis. \n",
    "    If you want to add a color to indicate the density of points, set density=True\n",
    "    \n",
    "    Args : \n",
    "        - dataframe (dataframe) : pandas dataframe containing the data of interest \n",
    "        - colx (str) : name of the column you want to put on the x axis \n",
    "        - coly (str) : same but for the y axis \n",
    "        - xlabel (str) : label to put on the x axis \n",
    "        - ylabel (str) : same for y axis \n",
    "        - xlim (list) : defines the range of x values displayed on the chart \n",
    "        - ylim (list) same for the y axis. \n",
    "        - density (bool) : set True to add color to indicate density of point. \n",
    "        \n",
    "    \"\"\"\n",
    "\n",
    "    if not density : \n",
    "        plt.scatter(dataframe[colx].values, dataframe[coly].values)\n",
    "    else:\n",
    "        xvals = dataframe[colx].values\n",
    "        yvals = dataframe[coly].values\n",
    "        xy = np.vstack([xvals, yvals])\n",
    "        z = gaussian_kde(xy)(xy)\n",
    "        plt.scatter(xvals, yvals, c=z, s=10, edgecolor='')\n",
    "    plt.xlabel(xlabel)\n",
    "    plt.ylabel(ylabel)\n",
    "    plt.plot(np.linspace(xlim[0], xlim[1], 100), \n",
    "             np.linspace(ylim[0], ylim[1], 100), \n",
    "             color='black')\n",
    "    plt.xlim(xlim)\n",
    "    plt.ylim(ylim)\n",
    "    plt.plot()"
   ]
  },
  {
   "cell_type": "code",
   "execution_count": 229,
   "metadata": {
    "_datascience": {}
   },
   "outputs": [
    {
     "data": {
      "image/png": "[encoded data removed]",
      "text/plain": [
       "<matplotlib.figure.Figure at 0x7f65b87a98d0>"
      ]
     },
     "metadata": {},
     "output_type": "display_data"
    }
   ],
   "source": [
    "# Let's see the scatter plot predicted vs observed purchase counts in the training period. \n",
    "\n",
    "plot_scatter(rfm, 'frequency', 'model_train_count')"
   ]
  },
  {
   "cell_type": "markdown",
   "metadata": {
    "_datascience": {}
   },
   "source": [
    "Not bad. Though this is expected given that this dataset was used to train the model. A more meaningful comparison would be done on a holdout period that the model has not seen yet. That's what we'll do below. \n",
    "\n",
    "I recommend adding to the diagnostics scatter plot above. A few suggestions include : \n",
    "* A chart showing the residuals per observed counts. This may indicate where the model performs poorly. \n",
    "* A cumulative distribution function (CDF) of the total number of purchases. This will be useful to determine whether or not the model can be used to forecast demand for this particular cohort of customers \n",
    "\n",
    "**All of these and more advanced diagnostics are accessible to our <a href=\"https://www.datascience.com/products\">DataScience Cloud Platform customers</a> in our CLV Playbook and Library. Coming soon **"
   ]
  },
  {
   "cell_type": "markdown",
   "metadata": {
    "_datascience": {}
   },
   "source": [
    "# Comparisons Between Predictions and the Holdout (validation) Set Observations\n",
    "\n",
    "As discussed below, we will now take a look at the holdout period. \n",
    "\n",
    "In the case of the holdout data, we have to condition the number of future purchases on the probability that the customer is alive at the end of the calibration period, $T$. After all, if a customer is dead at $T$, this customer should not make future purchases.\n",
    "\n",
    "This leads to a different expression than $E[X(t) | \\lambda, \\mu]$ for the purchase count **beyond the calibration period**. In the expression below, $Y$ is the number of purchases in the period $dt$ where $dt$ corresponds to the interval $(T, T+dt]$. In a nutshell, one has to condition $Y(dt)$ on the fact that the customer is alive at $T$. The expression below illustrates that:  \n",
    "\n",
    "$$ E[Y(dt)~|~\\lambda, \\mu, x, t_x, T] = E[Y(dt) | \\lambda, \\mu, \\rm{alive~at} T ] \\times P(\\tau > T | \\lambda, \\mu x, t_x, T)$$\n",
    "\n",
    "You may have noticed that I have not defined the expression $P(\\tau > T)$ yet. This expression corresponds to the probability that the lifetime of a customer $\\tau$ exceeds the length of the calibration period $T$. In other words, it corresponds to the probability that a customer is alive at $T$. For the sake of brevity, I will not go over the derivation of $P(\\tau > T)$ (though I invite the reader to do so) and will rather give you the final expression : \n",
    "\n",
    "$$P(\\tau > T|\\lambda, \\mu, x, t_x, T) = \\frac{1}{1+\\mu/(\\mu+\\lambda)[e^{(\\lambda + \\mu)(T-t_x)}-1]} \\; .$$\n",
    "\n",
    "\n",
    "As for the expression for $E[Y(dt) | \\lambda, \\mu, \\rm{alive~at~}T ]$ it corresponds to : \n",
    "\n",
    "$$ E[Y(dt) | \\lambda, \\mu, \\rm{alive~at~}T ] = \\frac{\\lambda}{\\mu}-\\frac{\\lambda}{\\mu}e^{-\\mu dt } \\; .$$\n",
    "\n",
    "As you may have noticed, it is the same expression as for $E[X(t)|\\lambda,\\mu]$. I will not go into the derivation of this expression but the reason why these two expressions are the same is due to the memoryless nature of the exponential distribution. \n",
    "\n",
    "As mentioned before, $\\lambda$ and $\\mu$ are unobserved but the MCMC process gives us the joint posterior distribution of those parameters at the customer level. One simply has to compute $E[Y(dt)~|~\\lambda, \\mu, x, t_x, T]$ for each value of $\\lambda$ and $\\mu$ in the customer-level trace and compute the mean value. \n"
   ]
  },
  {
   "cell_type": "code",
   "execution_count": 230,
   "metadata": {
    "_datascience": {},
    "collapsed": true
   },
   "outputs": [],
   "source": [
    "def prob_alive_at_T(lam, mu, t_x, T): \n",
    "    \"\"\"Computes the probability of being alive at T given lambda, mu, t_x, and T\"\"\"\n",
    "    return 1 / ( 1 + mu / (mu + lam) * (np.exp((lam + mu) * (T - t_x)) - 1) )"
   ]
  },
  {
   "cell_type": "code",
   "execution_count": 231,
   "metadata": {
    "_datascience": {}
   },
   "outputs": [],
   "source": [
    "# Predictions made over the holdout period of 6 months : \n",
    "dt_hold = 180.0 # 6 months \n",
    "\n",
    "# Here we extract recency and T values: \n",
    "tmp = rfm['T'].values \n",
    "T_values = np.tile(tmp, [iterations - warmup, 1])\n",
    "tmp2 = rfm['recency'].values \n",
    "recency_values = np.tile(tmp2, [iterations - warmup, 1])\n",
    "\n",
    "# Holdout counts predictions : \n",
    "holdout_predictions = ((lambdas/mus - lambdas/mus*np.exp(-mus*dt_hold)) * \\\n",
    "                                prob_alive_at_T(lambdas, mus, recency_values, T_values)).mean(axis=0)\n",
    "\n",
    "#holdout_predictions = (lambdas/mus - lambdas/mus*np.exp(-mus*dt_hold)) * prob_alive_at_t(lambdas, mus, t_x, T)\n",
    "rfm['model_holdout_count'] = np.asarray(holdout_predictions) "
   ]
  },
  {
   "cell_type": "code",
   "execution_count": 232,
   "metadata": {
    "_datascience": {}
   },
   "outputs": [],
   "source": [
    "# lets look at the observed number of transactions during the same time period : \n",
    "# counts per customer per date : \n",
    "holdout_counts = holdout.groupby(['cust', 'date'], as_index=False).size().reset_index()\n",
    "\n",
    "# counts per customer : \n",
    "holdout_counts = holdout_counts.groupby(['cust']).size()\n",
    "\n",
    "# Let's merge with the rfm object. \n",
    "rfm_with_holdout = rfm.merge(pd.DataFrame(holdout_counts), how='left', left_index=True, right_index=True)\n",
    "rfm_with_holdout.rename(columns={0:'obs_holdout_count'}, inplace=True)\n",
    "rfm_with_holdout.fillna(0, inplace=True)"
   ]
  },
  {
   "cell_type": "code",
   "execution_count": 233,
   "metadata": {
    "_datascience": {}
   },
   "outputs": [
    {
     "name": "stdout",
     "output_type": "stream",
     "text": [
      "('RMSE =', 1.1133279926060573)\n"
     ]
    },
    {
     "data": {
      "image/png": "[encoded data removed]",
      "text/plain": [
       "<matplotlib.figure.Figure at 0x7f65b3c9bf50>"
      ]
     },
     "metadata": {},
     "output_type": "display_data"
    }
   ],
   "source": [
    "# Let's now plot the data : \n",
    "\n",
    "rmse_holdout_count=(rfm_with_holdout['model_holdout_count'] - rfm_with_holdout['obs_holdout_count']).apply(lambda x :x*x)\n",
    "rmse_holdout_count=np.sqrt(rmse_holdout_count.sum()/len(rfm_with_holdout))\n",
    "print('RMSE =', rmse_holdout_count)\n",
    "plot_scatter(rfm_with_holdout, 'obs_holdout_count', 'model_holdout_count')"
   ]
  },
  {
   "cell_type": "markdown",
   "metadata": {
    "_datascience": {}
   },
   "source": [
    "Not surprisingly we're not doing as well on the holdout set than we did on the training set. Not too bad though as the RMSE is approximately 1 purchase count. \n",
    "\n",
    "There are several ways to improve the holdout results. Segmentation is one of them. \n",
    "\n",
    "**<a href=\"http://www.datascience.com\">DataScience</a>'s advisory services for our platform customers will guide you through the process of implementing and refining your CLV models and put them in production. **"
   ]
  },
  {
   "cell_type": "markdown",
   "metadata": {
    "_datascience": {}
   },
   "source": [
    "# Training a simple Gamma-Gamma model on the monetary value \n",
    "\n",
    "The next steps is to look at the monetary value model. This model follows closely the Gamma-Gamma model discussed in Fader et al. (2004). Note that the monetary value component is generally very difficult to model. Many factors can affect the price of items in ways that are not accounted for by the model. Long term changes in prices over several years (akin to inflation), discounts, promotions, etc. are difficult to capture in this and other simple monetary value models. That is something to keep in mind when doing comparisons over the holdout period and making predictions for future purchases. \n",
    "\n",
    "In the gamma model, the observed average order value $m_x$ in the training period is an imperfect metric of the latent mean transaction value $E(M)$ at the customer level. \n",
    "\n",
    "The main assumption behind the gamma model is that the average order value at the customer level is distributed according to a gamma distribution of shape $p$ and scale $\\nu$ \n",
    "$$ p(m_x~|~p, \\nu, x) = \\frac{(\\nu x)^{px}m_x^{px-1}e^{-\\nu x m_x}}{\\Gamma(px)}$$\n",
    "\n",
    "where \n",
    "* $x$ is the total number of transactions (`rfm['frequency']+1`) \n",
    "* $m_x$ is the average order value\n",
    "* $p$ is the shape of the gamma distribution. The model assumes that this parameter is the same for all customers. \n",
    "* $\\nu$ is the scale parameter. $\\nu$ varies across customers and has a prior that is also gamma distributed with parameters $(q,\\gamma)$\n",
    "\n",
    "The expectation value of the gamma distribution, which is the mean purchase value is $p/\\nu$ in this case. The MCMC sampling technique gives us the posterior distribution of $\\nu$. To get an estimate of $E(M)$ at the customer level, one simply has to average the value of $p/\\nu$ over the MCMC trace values of $\\nu$ and $p$, at the customer level. We go over the steps in the cells below. "
   ]
  },
  {
   "cell_type": "code",
   "execution_count": 106,
   "metadata": {
    "_datascience": {}
   },
   "outputs": [],
   "source": [
    "# This gamma-gamm model follows the Fader et al. (2004) Gamma-Gamma model closely. \n",
    "# Again, this model can take a while to train. Recommend a few 1000's iterations. \n",
    "\n",
    "gamma_gamma_model=\"\"\"\n",
    "data {\n",
    "    // this is the data we pass to STAN : \n",
    "    int<lower=1> n_cust;         // number of customers \n",
    "    vector[n_cust] x;            // frequency + 1 \n",
    "    vector[n_cust] mx;           // average purchase amount for each customer \n",
    "}\n",
    "\n",
    "parameters {\n",
    "    // These are the model parameters : \n",
    "    real <lower=0>p;             // scale parameter of the gamma distribution. Note that \n",
    "                                 // this parameter is not a vector. All customers will have the \n",
    "                                 // same value of p. \n",
    "    vector<lower=0> [n_cust] v;   // shape parameter of the gamma distribution (nu)\n",
    "    real <lower=0>q;             // shape parameter of the gamma prior distribtion on v \n",
    "    real <lower=0>y;             // scale parameter of the gamma prior distribution on v \n",
    "}\n",
    "\n",
    "transformed parameters {\n",
    "    vector<lower=0> [n_cust] px;\n",
    "    vector<lower=0> [n_cust] nx; \n",
    "    px <- p * x;                 // getting px from p and x \n",
    "    for (i in 1:n_cust) \n",
    "        nx[i] <- v[i] * x[i]; \n",
    "}\n",
    "\n",
    "model {\n",
    "    p ~ exponential(0.1);    // prior distribution on p\n",
    "    q ~ exponential(0.5);    // hyperprior distribution on q \n",
    "    y ~ exponential(0.1);    // hyperprior distribution on y \n",
    "//    v ~ gamma(q, q ./ y);    // prior distribution on nu  \n",
    "//    mx ~ gamma(px, v);       // likelihood function \n",
    "    v ~ gamma(q,y); \n",
    "    mx ~ gamma(px,nx); \n",
    "}\n",
    "\"\"\"\n",
    "\n",
    "# here's the data we will provide to STAN : \n",
    "data_gg={'n_cust':len(rfm),\n",
    "    'x':rfm['frequency'].values+1.0,\n",
    "    'mx':rfm['monetary_value'].values\n",
    "     }\n",
    "\n",
    "# I recommend training for several 1000's iterations. \n",
    "gamma_gamma_fit = stan_cache(gamma_gamma_model, model_name='gamma_gamma_model', \\\n",
    "                                  data=data_gg, chains=1, iter=1000, warmup=500)"
   ]
  },
  {
   "cell_type": "code",
   "execution_count": 234,
   "metadata": {
    "_datascience": {}
   },
   "outputs": [],
   "source": [
    "# Here I extract the model parameters from the fit \n",
    "\n",
    "trace_gg = gamma_gamma_fit.extract()\n",
    "nu = trace_gg['v']\n",
    "p = trace_gg['p']\n",
    "gamma = trace_gg['y']\n",
    "q = trace_gg['q']"
   ]
  },
  {
   "cell_type": "code",
   "execution_count": 235,
   "metadata": {
    "_datascience": {}
   },
   "outputs": [],
   "source": [
    "# Now let's compute E(M) and join it to the rfm object :\n",
    "pvalues = np.tile(np.array(p).T,(len(rfm),1))\n",
    "E_M = (pvalues / nu.T).mean(axis=1)"
   ]
  },
  {
   "cell_type": "code",
   "execution_count": 236,
   "metadata": {
    "_datascience": {},
    "collapsed": true
   },
   "outputs": [],
   "source": [
    "# Now let's compute E(M) and join it to the rfm object : \n",
    "\n",
    "rfm['E_M'] = E_M"
   ]
  },
  {
   "cell_type": "code",
   "execution_count": 237,
   "metadata": {
    "_datascience": {},
    "scrolled": true
   },
   "outputs": [
    {
     "data": {
      "text/html": [
       "<div>\n",
       "<table border=\"1\" class=\"dataframe\">\n",
       "  <thead>\n",
       "    <tr style=\"text-align: right;\">\n",
       "      <th></th>\n",
       "      <th>monetary_value</th>\n",
       "      <th>E_M</th>\n",
       "    </tr>\n",
       "    <tr>\n",
       "      <th>cust</th>\n",
       "      <th></th>\n",
       "      <th></th>\n",
       "    </tr>\n",
       "  </thead>\n",
       "  <tbody>\n",
       "    <tr>\n",
       "      <th>4</th>\n",
       "      <td>23.723333</td>\n",
       "      <td>25.124069</td>\n",
       "    </tr>\n",
       "    <tr>\n",
       "      <th>18</th>\n",
       "      <td>14.960000</td>\n",
       "      <td>21.401881</td>\n",
       "    </tr>\n",
       "    <tr>\n",
       "      <th>21</th>\n",
       "      <td>37.555000</td>\n",
       "      <td>36.345113</td>\n",
       "    </tr>\n",
       "    <tr>\n",
       "      <th>50</th>\n",
       "      <td>6.790000</td>\n",
       "      <td>16.489899</td>\n",
       "    </tr>\n",
       "    <tr>\n",
       "      <th>60</th>\n",
       "      <td>21.750000</td>\n",
       "      <td>26.573135</td>\n",
       "    </tr>\n",
       "  </tbody>\n",
       "</table>\n",
       "</div>"
      ],
      "text/plain": [
       "      monetary_value        E_M\n",
       "cust                           \n",
       "4          23.723333  25.124069\n",
       "18         14.960000  21.401881\n",
       "21         37.555000  36.345113\n",
       "50          6.790000  16.489899\n",
       "60         21.750000  26.573135"
      ]
     },
     "execution_count": 237,
     "metadata": {},
     "output_type": "execute_result"
    }
   ],
   "source": [
    "rfm[['monetary_value', 'E_M']].head()"
   ]
  },
  {
   "cell_type": "markdown",
   "metadata": {
    "_datascience": {}
   },
   "source": [
    "## Comparisons between E(M) and observed mean in training period "
   ]
  },
  {
   "cell_type": "code",
   "execution_count": 238,
   "metadata": {
    "_datascience": {}
   },
   "outputs": [
    {
     "data": {
      "image/png": "[encoded data removed]",
      "text/plain": [
       "<matplotlib.figure.Figure at 0x7f65b8f05910>"
      ]
     },
     "metadata": {},
     "output_type": "display_data"
    }
   ],
   "source": [
    "# Let's explore the results : \n",
    "\n",
    "plot_scatter(rfm,'monetary_value','E_M', \n",
    "             xlabel='Average Order Value in Training Period ($)', \n",
    "             ylabel='E(M) ($)', \n",
    "             xlim=[0,50], ylim=[0,50])"
   ]
  },
  {
   "cell_type": "markdown",
   "metadata": {
    "_datascience": {}
   },
   "source": [
    "In the figure above, what can be perceived as different \"lines\" correspond to different values of \"x\". "
   ]
  },
  {
   "cell_type": "markdown",
   "metadata": {
    "_datascience": {}
   },
   "source": [
    "## Comparisons between E(M) and observed mean in holdout/validation period "
   ]
  },
  {
   "cell_type": "code",
   "execution_count": 239,
   "metadata": {
    "_datascience": {}
   },
   "outputs": [
    {
     "data": {
      "text/html": [
       "<div>\n",
       "<table border=\"1\" class=\"dataframe\">\n",
       "  <thead>\n",
       "    <tr style=\"text-align: right;\">\n",
       "      <th></th>\n",
       "      <th>obs_holdout_monetary_value</th>\n",
       "    </tr>\n",
       "    <tr>\n",
       "      <th>cust</th>\n",
       "      <th></th>\n",
       "    </tr>\n",
       "  </thead>\n",
       "  <tbody>\n",
       "    <tr>\n",
       "      <th>111</th>\n",
       "      <td>65.486667</td>\n",
       "    </tr>\n",
       "    <tr>\n",
       "      <th>113</th>\n",
       "      <td>13.380000</td>\n",
       "    </tr>\n",
       "    <tr>\n",
       "      <th>114</th>\n",
       "      <td>28.735000</td>\n",
       "    </tr>\n",
       "    <tr>\n",
       "      <th>166</th>\n",
       "      <td>11.750000</td>\n",
       "    </tr>\n",
       "    <tr>\n",
       "      <th>208</th>\n",
       "      <td>70.380000</td>\n",
       "    </tr>\n",
       "  </tbody>\n",
       "</table>\n",
       "</div>"
      ],
      "text/plain": [
       "      obs_holdout_monetary_value\n",
       "cust                            \n",
       "111                    65.486667\n",
       "113                    13.380000\n",
       "114                    28.735000\n",
       "166                    11.750000\n",
       "208                    70.380000"
      ]
     },
     "execution_count": 239,
     "metadata": {},
     "output_type": "execute_result"
    }
   ],
   "source": [
    "# Let's compute the observed mean transaction value per customer in the holdout period : \n",
    "\n",
    "holdout_value = holdout.groupby(['cust', 'date'], as_index=False)['sales'].sum().reset_index()\n",
    "holdout_value = holdout_value[['cust', 'sales']].groupby(['cust'])['sales'].mean()\n",
    "holdout_value=pd.DataFrame(holdout_value)\n",
    "holdout_value.rename(columns={'sales':'obs_holdout_monetary_value'}, inplace=True)\n",
    "holdout_value.head()"
   ]
  },
  {
   "cell_type": "code",
   "execution_count": 240,
   "metadata": {
    "_datascience": {}
   },
   "outputs": [],
   "source": [
    "# merge with rfm object : \n",
    "rfm_w_holdout_value  = rfm.merge(holdout_value, how='left', left_index=True, right_index=True)\n",
    "rfm_w_holdout_value.fillna(0,inplace=True)"
   ]
  },
  {
   "cell_type": "code",
   "execution_count": 241,
   "metadata": {
    "_datascience": {}
   },
   "outputs": [
    {
     "data": {
      "image/png": "[encoded data removed]",
      "text/plain": [
       "<matplotlib.figure.Figure at 0x7f65b3ca7210>"
      ]
     },
     "metadata": {},
     "output_type": "display_data"
    }
   ],
   "source": [
    "plot_scatter(rfm_w_holdout_value,'obs_holdout_monetary_value','E_M', \n",
    "             xlabel='Average Order Value in holdout Period ($)', \n",
    "             ylabel='E(M) ($)', \n",
    "             xlim=[0,200], ylim=[0,200])"
   ]
  },
  {
   "cell_type": "code",
   "execution_count": 242,
   "metadata": {
    "_datascience": {}
   },
   "outputs": [
    {
     "data": {
      "text/plain": [
       "33.155613399908844"
      ]
     },
     "execution_count": 242,
     "metadata": {},
     "output_type": "execute_result"
    }
   ],
   "source": [
    "rfm['E_M'].mean()"
   ]
  },
  {
   "cell_type": "code",
   "execution_count": 243,
   "metadata": {
    "_datascience": {}
   },
   "outputs": [
    {
     "data": {
      "text/plain": [
       "obs_holdout_monetary_value    37.518947\n",
       "dtype: float64"
      ]
     },
     "execution_count": 243,
     "metadata": {},
     "output_type": "execute_result"
    }
   ],
   "source": [
    "holdout_value.mean()"
   ]
  },
  {
   "cell_type": "markdown",
   "metadata": {
    "_datascience": {}
   },
   "source": [
    "This chart above highlights how difficult it is to accurately model the monetary value. The points found along the observed value of 0 corresponds to customers who have not made a purchase in the holdout period. For the customers who have made at least one purchase in the holdout period, our model tends to underestimate the mean value that these users will spend in that period. "
   ]
  },
  {
   "cell_type": "markdown",
   "metadata": {
    "_datascience": {}
   },
   "source": [
    "# Finally, computing the CLV in the holdout period and comparing with with model predictions \n",
    "\n",
    "We are at the end of this exercise. The last step is to compute the customer-level CLV predictions for the holdout period. I invite you to do the same comparison for the training period. \n",
    "\n",
    "CLV is obtained by \n",
    "$$CLV(t,t+dt) = E(M)~\\times~ E[Y(dt)~|~\\lambda, \\mu, x, t_x, T] $$"
   ]
  },
  {
   "cell_type": "code",
   "execution_count": 244,
   "metadata": {
    "_datascience": {}
   },
   "outputs": [],
   "source": [
    "# compute both modeled and observed CLV in the holdout period : \n",
    "\n",
    "rfm['model_holdout_clv'] = rfm_with_holdout['model_holdout_count'] * rfm['E_M']\n",
    "rfm['obs_holdout_clv'] = rfm_with_holdout['obs_holdout_count'] * rfm_w_holdout_value['obs_holdout_monetary_value']\n",
    "rmse_holdout_clv = (rfm['model_holdout_clv'] - rfm['obs_holdout_clv'])* \\\n",
    "                   (rfm['model_holdout_clv'] - rfm['obs_holdout_clv'])\n",
    "rmse_holdout_clv = np.sqrt(rmse_holdout_clv.sum()/len(rfm))"
   ]
  },
  {
   "cell_type": "code",
   "execution_count": 245,
   "metadata": {
    "_datascience": {}
   },
   "outputs": [
    {
     "name": "stdout",
     "output_type": "stream",
     "text": [
      "('RMSE =', 50.906531530555085)\n"
     ]
    },
    {
     "data": {
      "image/png": "[encoded data removed]",
      "text/plain": [
       "<matplotlib.figure.Figure at 0x7f65b945a450>"
      ]
     },
     "metadata": {},
     "output_type": "display_data"
    }
   ],
   "source": [
    "# plot the final results : \n",
    "print('RMSE =', rmse_holdout_clv)\n",
    "plot_scatter(rfm, 'obs_holdout_clv', 'model_holdout_clv',\n",
    "             xlabel='Observed Value in the Holdout Period',\n",
    "             ylabel='Modeled Value in the Holdout Period', \n",
    "             xlim=[0,300.0],ylim=[0,300.0])"
   ]
  },
  {
   "cell_type": "markdown",
   "metadata": {
    "_datascience": {}
   },
   "source": [
    "# In conclusion \n",
    "\n",
    "The Pareto/NBD model is a good introduction to CLV modeling. The gamma-gamma model for monetary value is easy and simple to train. \n",
    "\n",
    "There are however several limitations to these approaches. More sophisticated models could include user segmentation. Bayes hierarchical models may also be able to better discriminate groups of customers who exhibit different behaviors and model their $\\lambda$ and $\\mu$ accordingly. \n",
    "\n",
    "The team of data scientists at DataScience can help you designing and improve these models. For our DataScience Cloud Platform customers, we provide a CLV playbook along with a library of CLV models, diagnostics and support. "
   ]
  }
 ],
 "metadata": {
  "_datascience": {
   "notebookId": 679
  },
  "kernelspec": {
   "display_name": "Python 3",
   "language": "python",
   "name": "python3"
  },
  "language_info": {
   "codemirror_mode": {
    "name": "ipython",
    "version": 3
   },
   "file_extension": ".py",
   "mimetype": "text/x-python",
   "name": "python",
   "nbconvert_exporter": "python",
   "pygments_lexer": "ipython3",
   "version": "3.6.6"
  }
 },
 "nbformat": 4,
 "nbformat_minor": 2
}
